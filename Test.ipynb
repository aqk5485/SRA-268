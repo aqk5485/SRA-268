{
  "nbformat": 4,
  "nbformat_minor": 0,
  "metadata": {
    "colab": {
      "name": "Test",
      "provenance": [],
      "authorship_tag": "ABX9TyNtr6yjeVJtPOTJy1i/4YNI",
      "include_colab_link": true
    },
    "kernelspec": {
      "name": "python3",
      "display_name": "Python 3"
    }
  },
  "cells": [
    {
      "cell_type": "markdown",
      "metadata": {
        "id": "view-in-github",
        "colab_type": "text"
      },
      "source": [
        "<a href=\"https://colab.research.google.com/github/aqk5485/SRA-268/blob/master/Test.ipynb\" target=\"_parent\"><img src=\"https://colab.research.google.com/assets/colab-badge.svg\" alt=\"Open In Colab\"/></a>"
      ]
    },
    {
      "cell_type": "code",
      "metadata": {
        "id": "FME3Owcc4oeR",
        "colab_type": "code",
        "colab": {}
      },
      "source": [
        ""
      ],
      "execution_count": 0,
      "outputs": []
    },
    {
      "cell_type": "markdown",
      "metadata": {
        "id": "IY9uXtXa57TE",
        "colab_type": "text"
      },
      "source": [
        "# Abstract"
      ]
    },
    {
      "cell_type": "markdown",
      "metadata": {
        "id": "iFurZh176Omx",
        "colab_type": "text"
      },
      "source": [
        "somethings in the abstract"
      ]
    },
    {
      "cell_type": "markdown",
      "metadata": {
        "id": "gw-nW0xD6RUV",
        "colab_type": "text"
      },
      "source": [
        "# introduction"
      ]
    },
    {
      "cell_type": "markdown",
      "metadata": {
        "id": "-0y2qpFB6SxT",
        "colab_type": "text"
      },
      "source": [
        "fdsafdsafdsa"
      ]
    },
    {
      "cell_type": "markdown",
      "metadata": {
        "id": "vw2QL4qo6Uco",
        "colab_type": "text"
      },
      "source": [
        "![mario] (https://raw.githubusercontent.com/aqk5485/SRA-268/master/fdasfda.jpeg)"
      ]
    },
    {
      "cell_type": "markdown",
      "metadata": {
        "id": "H0ryuSKk7XRK",
        "colab_type": "text"
      },
      "source": [
        ""
      ]
    },
    {
      "cell_type": "markdown",
      "metadata": {
        "id": "PPu3nCWt60Gm",
        "colab_type": "text"
      },
      "source": [
        ""
      ]
    }
  ]
}