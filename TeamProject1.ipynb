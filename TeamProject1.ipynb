{
  "nbformat": 4,
  "nbformat_minor": 0,
  "metadata": {
    "colab": {
      "name": "TeamProject1.ipynb",
      "provenance": [],
      "collapsed_sections": [],
      "include_colab_link": true
    },
    "kernelspec": {
      "name": "python3",
      "display_name": "Python 3"
    }
  },
  "cells": [
    {
      "cell_type": "markdown",
      "metadata": {
        "id": "view-in-github",
        "colab_type": "text"
      },
      "source": [
        "<a href=\"https://colab.research.google.com/github/aqk5485/SRA-268/blob/master/TeamProject1.ipynb\" target=\"_parent\"><img src=\"https://colab.research.google.com/assets/colab-badge.svg\" alt=\"Open In Colab\"/></a>"
      ]
    },
    {
      "cell_type": "markdown",
      "metadata": {
        "id": "Cg4K86lx99wf",
        "colab_type": "text"
      },
      "source": [
        "##Best Time of Year to go Downtown in State College"
      ]
    },
    {
      "cell_type": "markdown",
      "metadata": {
        "id": "XyZWTjk-90rK",
        "colab_type": "text"
      },
      "source": [
        "#### Creators"
      ]
    },
    {
      "cell_type": "markdown",
      "metadata": {
        "id": "_UmSHhRi94qS",
        "colab_type": "text"
      },
      "source": [
        "*   Aaron Kerman\n",
        "*   Allison Givler\n",
        "*   Matt Cowgill\n",
        "\n",
        "\n",
        "\n"
      ]
    },
    {
      "cell_type": "markdown",
      "metadata": {
        "id": "lxlTiG_0-CVR",
        "colab_type": "text"
      },
      "source": [
        "####Project Idea"
      ]
    },
    {
      "cell_type": "markdown",
      "metadata": {
        "id": "DsUP7gU4-K5Q",
        "colab_type": "text"
      },
      "source": [
        "The idea behind our, \"The Good, the Bad, and the Ugly\" group project was to identify trends and depict the best times between Jan 1, 2000 to Jan 1, 2020 to go out on a night downtown. As such, we've tried to show days that ranged between 60 and 85 degrees that had no precipitation for a perfectly comfortable night out on the town. We have used color, shape and size to accurately represent the dataset that we chose to determine the best times to go out in downtown State College. The “good” graph will accurately depict what we are intending to show with the data. The “bad” will attempt to use retinal encodings, but fail to show them well. The “ugly” graph will be technically appropriate for depiction purposes but not pleasant to look at. "
      ]
    },
    {
      "cell_type": "markdown",
      "metadata": {
        "id": "nsJpXjEZ-PB3",
        "colab_type": "text"
      },
      "source": [
        "###The Good"
      ]
    },
    {
      "cell_type": "code",
      "metadata": {
        "id": "oFTRKTpAZo-V",
        "colab_type": "code",
        "colab": {
          "base_uri": "https://localhost:8080/",
          "height": 1000
        },
        "outputId": "cbba6ca5-678b-4b08-d3ae-707120c569e8"
      },
      "source": [
        "import IPython\n",
        "IPython.display.HTML(\"<div class='tableauPlaceholder' id='viz1581125296521' style='position: relative'><noscript><a href=''><img alt=' ' src='https:&#47;&#47;public.tableau.com&#47;static&#47;images&#47;SR&#47;SRA268TheGood&#47;Sheet1&#47;1_rss.png' style='border: none' /></a></noscript><object class='tableauViz'  style='display:none;'><param name='host_url' value='https%3A%2F%2Fpublic.tableau.com%2F' /> <param name='embed_code_version' value='3' /> <param name='site_root' value='' /><param name='name' value='SRA268TheGood&#47;Sheet1' /><param name='tabs' value='no' /><param name='toolbar' value='yes' /><param name='static_image' value='https:&#47;&#47;public.tableau.com&#47;static&#47;images&#47;SR&#47;SRA268TheGood&#47;Sheet1&#47;1.png' /> <param name='animate_transition' value='yes' /><param name='display_static_image' value='yes' /><param name='display_spinner' value='yes' /><param name='display_overlay' value='yes' /><param name='display_count' value='yes' /><param name='filter' value='publish=yes' /></object></div>                <script type='text/javascript'>                    var divElement = document.getElementById('viz1581125296521');                    var vizElement = divElement.getElementsByTagName('object')[0];                    vizElement.style.width='100%';vizElement.style.height=(divElement.offsetWidth*0.75)+'px';                    var scriptElement = document.createElement('script');                    scriptElement.src = 'https://public.tableau.com/javascripts/api/viz_v1.js';                    vizElement.parentNode.insertBefore(scriptElement, vizElement);                </script>\")"
      ],
      "execution_count": 5,
      "outputs": [
        {
          "output_type": "execute_result",
          "data": {
            "text/html": [
              "<div class='tableauPlaceholder' id='viz1581125296521' style='position: relative'><noscript><a href=''><img alt=' ' src='https:&#47;&#47;public.tableau.com&#47;static&#47;images&#47;SR&#47;SRA268TheGood&#47;Sheet1&#47;1_rss.png' style='border: none' /></a></noscript><object class='tableauViz'  style='display:none;'><param name='host_url' value='https%3A%2F%2Fpublic.tableau.com%2F' /> <param name='embed_code_version' value='3' /> <param name='site_root' value='' /><param name='name' value='SRA268TheGood&#47;Sheet1' /><param name='tabs' value='no' /><param name='toolbar' value='yes' /><param name='static_image' value='https:&#47;&#47;public.tableau.com&#47;static&#47;images&#47;SR&#47;SRA268TheGood&#47;Sheet1&#47;1.png' /> <param name='animate_transition' value='yes' /><param name='display_static_image' value='yes' /><param name='display_spinner' value='yes' /><param name='display_overlay' value='yes' /><param name='display_count' value='yes' /><param name='filter' value='publish=yes' /></object></div>                <script type='text/javascript'>                    var divElement = document.getElementById('viz1581125296521');                    var vizElement = divElement.getElementsByTagName('object')[0];                    vizElement.style.width='100%';vizElement.style.height=(divElement.offsetWidth*0.75)+'px';                    var scriptElement = document.createElement('script');                    scriptElement.src = 'https://public.tableau.com/javascripts/api/viz_v1.js';                    vizElement.parentNode.insertBefore(scriptElement, vizElement);                </script>"
            ],
            "text/plain": [
              "<IPython.core.display.HTML object>"
            ]
          },
          "metadata": {
            "tags": []
          },
          "execution_count": 5
        }
      ]
    },
    {
      "cell_type": "markdown",
      "metadata": {
        "id": "bhzEQKcn-Seq",
        "colab_type": "text"
      },
      "source": [
        "The reason that this is called, \"The Good\" graph is because we decided to use both size, and color to help the viewer distinguish the best times of the year, per month to go downtown. Each dot represents the number of days that the values of Tmax and Tmin as well as Prcp matched what we wanted when thinking about the perfect time to head downtown. The warmer the color and the larger the size, the more days of that month were ideal. The cooler the color and smaller the size of the value means it either didn't have any days that fit our parameters, or only had much fewer ideal days. As expected the warmer summer months of the second and third quarters yielded the best times to go out."
      ]
    },
    {
      "cell_type": "markdown",
      "metadata": {
        "id": "kNuijcLJ-T1y",
        "colab_type": "text"
      },
      "source": [
        "###The Bad"
      ]
    },
    {
      "cell_type": "markdown",
      "metadata": {
        "id": "tFduCg7J-7Au",
        "colab_type": "text"
      },
      "source": [
        "![The Bad](https://raw.githubusercontent.com/aqk5485/SRA-268/master/Images/The%20Bad.PNG)"
      ]
    },
    {
      "cell_type": "markdown",
      "metadata": {
        "id": "sr7qSj7P-VtB",
        "colab_type": "text"
      },
      "source": [
        "This is a bad representation of what a graph should look like for the dataset we chose. There are several aspects that makes this graph \"bad\". One of those aspects is the fact that the color is so light that it is hard to find the data points. Another reason why this is not a good way to represent this dataset is because there is not differentiation in size in which days are better than others for going downtown. This graph shows that all of the days are equal and that there is no difference in temperature or amount of precipitation. Lastly, not all of the months are labeled on the graph. This could lead people who look at the graph to think that they were left out or not took into consideration when representing the data. "
      ]
    },
    {
      "cell_type": "markdown",
      "metadata": {
        "id": "BlUa8crT-Xht",
        "colab_type": "text"
      },
      "source": [
        "###The Ugly"
      ]
    },
    {
      "cell_type": "markdown",
      "metadata": {
        "id": "82LwUrCS-9Nm",
        "colab_type": "text"
      },
      "source": [
        "![The Ugly](https://raw.githubusercontent.com/aqk5485/SRA-268/master/Images/The%20Ugly.PNG)"
      ]
    },
    {
      "cell_type": "markdown",
      "metadata": {
        "id": "5KGMxD8o-YuA",
        "colab_type": "text"
      },
      "source": [
        "This graph is an example of an \"ugly\" representation of what we were trying to convey with which days are best to visit downtown State College. One reason why this works as an \"ugly\" representation is because of the amount of white space that is on the graph. A large amount of white space allows for your eye to wander to the white area and not the data points. Also, while this visual accurately represents the data that we were looking into, it doesn't do so in a way that is easy to be read and understood easily. This graph could also use some variation in color to better convey the different temperatures of those days in our dataset."
      ]
    }
  ]
}