{
  "nbformat": 4,
  "nbformat_minor": 0,
  "metadata": {
    "colab": {
      "name": "Copy of Lab2Template.ipynb",
      "provenance": [],
      "include_colab_link": true
    },
    "kernelspec": {
      "name": "python3",
      "display_name": "Python 3"
    }
  },
  "cells": [
    {
      "cell_type": "markdown",
      "metadata": {
        "id": "view-in-github",
        "colab_type": "text"
      },
      "source": [
        "<a href=\"https://colab.research.google.com/github/aqk5485/SRA-268/blob/master/Lab2.ipynb\" target=\"_parent\"><img src=\"https://colab.research.google.com/assets/colab-badge.svg\" alt=\"Open In Colab\"/></a>"
      ]
    },
    {
      "cell_type": "markdown",
      "metadata": {
        "id": "6sOc4Uyr4U-Z",
        "colab_type": "text"
      },
      "source": [
        "## Graph Types"
      ]
    },
    {
      "cell_type": "markdown",
      "metadata": {
        "id": "0zZdVLAd5CYr",
        "colab_type": "text"
      },
      "source": [
        "Creator\n",
        "* Aaron Kerman"
      ]
    },
    {
      "cell_type": "markdown",
      "metadata": {
        "id": "g-r6Clq45Hn4",
        "colab_type": "text"
      },
      "source": [
        "### Deviation\n"
      ]
    },
    {
      "cell_type": "markdown",
      "metadata": {
        "id": "2gorxo6E7A0t",
        "colab_type": "text"
      },
      "source": [
        "![alt text](https://raw.githubusercontent.com/aqk5485/SRA-268/master/Images/Deviation.JPG)"
      ]
    },
    {
      "cell_type": "markdown",
      "metadata": {
        "id": "w6bZ_NEi7E3w",
        "colab_type": "text"
      },
      "source": [
        "#### What is this telling us?"
      ]
    },
    {
      "cell_type": "markdown",
      "metadata": {
        "id": "95L-spaC7QHF",
        "colab_type": "text"
      },
      "source": [
        "I made this graph to try to understand which region has the most win points per team - in this case, the teams are represented by the winning mascot. This graph is trying to highlight the difference in win points per region and I chose to make this clearer through color, though I forgot to include the legend in the snip of the graph. What seems to stand out to me most is that for many of the teams it seems that there is no clear trend amongst some of the higher win point teams and perhaps the primary region that they in is a factor as Duke (Devils) and UNC (Sheep) have more win points in the blue region whereas Kentucky (Wildcats) have most of their win points in the other regions. "
      ]
    },
    {
      "cell_type": "markdown",
      "metadata": {
        "id": "YgXyXjmz7cDP",
        "colab_type": "text"
      },
      "source": [
        "### Correlation\n"
      ]
    },
    {
      "cell_type": "markdown",
      "metadata": {
        "id": "SGx15rZq7hvt",
        "colab_type": "text"
      },
      "source": [
        "![alt text](https://raw.githubusercontent.com/aqk5485/SRA-268/master/Images/Correlation.JPG)"
      ]
    },
    {
      "cell_type": "markdown",
      "metadata": {
        "id": "dljjONNi7jmj",
        "colab_type": "text"
      },
      "source": [
        "#### What is this telling us?"
      ]
    },
    {
      "cell_type": "markdown",
      "metadata": {
        "id": "PwZEZrFB7laG",
        "colab_type": "text"
      },
      "source": [
        "What this correlation graph is showing me is that the higher season count a team has, the larger winning point value it has. I also tried to see if regions made any difference or if there was any semblance of a pattern that would appear, which it only slightly did. Most of the teams in the upper range of the win points were from the blue, green and red regions but the Jayhawks from Kansas have also found a spot amongst Duke (Devil) and UNC (Sheep) as a team with a very high win point score. The Wildcats while not having the highest win point value makes three appearances closer to the cluster, but I had actually expected them to be far higher up in the graph. "
      ]
    },
    {
      "cell_type": "markdown",
      "metadata": {
        "id": "MqUdI-uL7r2s",
        "colab_type": "text"
      },
      "source": [
        "### Ranking\n"
      ]
    },
    {
      "cell_type": "markdown",
      "metadata": {
        "id": "AvlxCOVt7x9F",
        "colab_type": "text"
      },
      "source": [
        "![alt text](https://raw.githubusercontent.com/aqk5485/SRA-268/master/Images/Ranking.JPG)"
      ]
    },
    {
      "cell_type": "markdown",
      "metadata": {
        "id": "lCAYtfza7yTq",
        "colab_type": "text"
      },
      "source": [
        "#### What is this telling us?"
      ]
    },
    {
      "cell_type": "markdown",
      "metadata": {
        "id": "MyuciD277ygU",
        "colab_type": "text"
      },
      "source": [
        "This graph ranks the species of winning mascot teams and their respective win points. What surprised me about this graph is that given the most historically dominant teams of college basketball such as Kansas, Duke, UNC and Kentucky, the combined total of all teams with a human and domestic dog mascot still far exceeds them. I presume this is because there are many teams with mascots that aren’t particularly unique and thus fall into this category. This ranking chart seems heavily skewed with many dominant teams with the human and dog mascot in addition, that turns into a very steep decline toward the upper quarter of teams that someone levels out. "
      ]
    },
    {
      "cell_type": "markdown",
      "metadata": {
        "id": "dGDGl8-G7y8Y",
        "colab_type": "text"
      },
      "source": [
        "### Distribution\n"
      ]
    },
    {
      "cell_type": "markdown",
      "metadata": {
        "id": "FB0uV-jy76p9",
        "colab_type": "text"
      },
      "source": [
        "![alt text](https://raw.githubusercontent.com/aqk5485/SRA-268/master/Images/Distribution.JPG)"
      ]
    },
    {
      "cell_type": "markdown",
      "metadata": {
        "id": "_6SOzhrQ76zH",
        "colab_type": "text"
      },
      "source": [
        "#### What is this telling us?"
      ]
    },
    {
      "cell_type": "markdown",
      "metadata": {
        "id": "HBWqsS_g767h",
        "colab_type": "text"
      },
      "source": [
        "With this distribution graph I wanted to see over the course of the years what the average loss and average win point difference was. What I found interesting was that these two values stay largely the same throughout 1985 to 2017. There are some jumps from year to year where the values separate to a large degree such as in 1999 and 2008. I think notably that there are also only two or three instances where the loss point averages were higher than the win point averages in 1986, ~1990 and just barely in 2005, which I also found interesting."
      ]
    },
    {
      "cell_type": "markdown",
      "metadata": {
        "id": "wQsDThk677Fy",
        "colab_type": "text"
      },
      "source": [
        "### Change over Time\n"
      ]
    },
    {
      "cell_type": "markdown",
      "metadata": {
        "id": "Z1j_YLOA7_OK",
        "colab_type": "text"
      },
      "source": [
        "![alt text](https://raw.githubusercontent.com/aqk5485/SRA-268/master/Images/Change%20Over%20Time.JPG)"
      ]
    },
    {
      "cell_type": "markdown",
      "metadata": {
        "id": "mpfsmmgi7_Vj",
        "colab_type": "text"
      },
      "source": [
        "#### What is this telling us?"
      ]
    },
    {
      "cell_type": "markdown",
      "metadata": {
        "id": "rYLXoMMO7_di",
        "colab_type": "text"
      },
      "source": [
        "With this change over time graph I wanted to see specifically what the average win point change was per year over the duration of the 1985 season to the 2017 season. What the graph appears to show is that the it seems to be trending downward as the games in the late 1980s had an average winning point average of the low to mid 80s whereas the games from 1995 and onwards have been closer to the low to mid 70s. I suspected that the values would go up in time as the game became more and more refined but it seems the opposite has happened. "
      ]
    },
    {
      "cell_type": "markdown",
      "metadata": {
        "id": "lFwiHoE-7_jZ",
        "colab_type": "text"
      },
      "source": [
        "### Magnitude\n"
      ]
    },
    {
      "cell_type": "markdown",
      "metadata": {
        "id": "ICQFnXj78EbF",
        "colab_type": "text"
      },
      "source": [
        "![alt text](https://raw.githubusercontent.com/aqk5485/SRA-268/master/Images/Magnitude.JPG)"
      ]
    },
    {
      "cell_type": "markdown",
      "metadata": {
        "id": "QGG7XYG88Eii",
        "colab_type": "text"
      },
      "source": [
        "#### What is this telling us?"
      ]
    },
    {
      "cell_type": "markdown",
      "metadata": {
        "id": "VS7uGa0l8Eos",
        "colab_type": "text"
      },
      "source": [
        "With this graph I tried to compare the magnitude of win and loss points compared to the winning tax kingdom of team mascots, in this case animalia or plantae. I did expect a large discrepancy between the animalia and plantae kingdoms because as far as I knew, there weren’t any plantae mascots so to see any was surprising. Though there may be a much smaller sample size of plantae mascots their win and loss points difference are quite close when compared to the win and loss points of the animalia kingdom mascots. What I also didn’t expect was the large discrepancy of almost 10k between the win and loss points of the animalia kingdom. "
      ]
    },
    {
      "cell_type": "markdown",
      "metadata": {
        "id": "bEKFxP8R8Evk",
        "colab_type": "text"
      },
      "source": [
        "### Part-to-Whole\n"
      ]
    },
    {
      "cell_type": "markdown",
      "metadata": {
        "id": "WFHlcYKV8E35",
        "colab_type": "text"
      },
      "source": [
        "![alt text](https://raw.githubusercontent.com/aqk5485/SRA-268/master/Images/Part%20to%20Whole.JPG)"
      ]
    },
    {
      "cell_type": "markdown",
      "metadata": {
        "id": "PNSd3wlp8UZH",
        "colab_type": "text"
      },
      "source": [
        "#### What is this telling us?"
      ]
    },
    {
      "cell_type": "markdown",
      "metadata": {
        "id": "y9tb_QRA8aqt",
        "colab_type": "text"
      },
      "source": [
        "What this graph is attempting to show is the differences in winning points and the team’s respecting winning costume species. As I expected many of the dominant teams such as Kentucky (Wildcat), Duke (Devil), UNC (Sheep) and Kansas (Jayhawk) were the most prominent in the treemap. However, what surprised me is the Bulldog and the Tiger of Georgia and Auburn both being up amongst the highest winning point scores. I had also thought that the UConn Husky would make up a larger portion of the chart. There is also a clustering of many teams in the middle with nearly even scores which when I look back on the previous graphs was to be expected. "
      ]
    }
  ]
}