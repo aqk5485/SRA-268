{
  "nbformat": 4,
  "nbformat_minor": 0,
  "metadata": {
    "colab": {
      "name": "Lab 01.ipynb",
      "provenance": [],
      "authorship_tag": "ABX9TyO54YmUdL0tqR7qpoLsfxGW",
      "include_colab_link": true
    },
    "kernelspec": {
      "name": "python3",
      "display_name": "Python 3"
    }
  },
  "cells": [
    {
      "cell_type": "markdown",
      "metadata": {
        "id": "view-in-github",
        "colab_type": "text"
      },
      "source": [
        "<a href=\"https://colab.research.google.com/github/aqk5485/SRA-268/blob/master/Lab_01.ipynb\" target=\"_parent\"><img src=\"https://colab.research.google.com/assets/colab-badge.svg\" alt=\"Open In Colab\"/></a>"
      ]
    },
    {
      "cell_type": "markdown",
      "metadata": {
        "id": "ZHyqVFbwIY5N",
        "colab_type": "text"
      },
      "source": [
        "###Correlation of Max Temperatures and Snow in January of 2017"
      ]
    },
    {
      "cell_type": "markdown",
      "metadata": {
        "id": "tTa2DMzHJIJH",
        "colab_type": "text"
      },
      "source": [
        "####Outline"
      ]
    },
    {
      "cell_type": "markdown",
      "metadata": {
        "id": "pSwOHiSKRKAy",
        "colab_type": "text"
      },
      "source": [
        "I wanted to see if there was any correlation between the maximum temperatures for the month of January 2017 and the amount of snowfall that day in inches. So, I created the graph below to create a visual between max temperature and the amount of snowfall, the dots representing each day of that month."
      ]
    },
    {
      "cell_type": "markdown",
      "metadata": {
        "id": "PPcMl9A6JRlM",
        "colab_type": "text"
      },
      "source": [
        "####Data Sketch"
      ]
    },
    {
      "cell_type": "markdown",
      "metadata": {
        "id": "NLIel4vPRpF2",
        "colab_type": "text"
      },
      "source": [
        "![Data Sketch of Temp and Snowfall](https://raw.githubusercontent.com/aqk5485/SRA-268/master/Images/Lab%2001.jpg)"
      ]
    },
    {
      "cell_type": "markdown",
      "metadata": {
        "id": "fgkiEsayJUsv",
        "colab_type": "text"
      },
      "source": [
        "####Conclusions"
      ]
    },
    {
      "cell_type": "markdown",
      "metadata": {
        "id": "dlJ1RyW5Uwfg",
        "colab_type": "text"
      },
      "source": [
        "In conclusion, as expected there was far fewer days in January with snowfall when the temperature was above freezing. What I did note and found interesting was a slight incline in the amount of snowfall though the max temperature for that day was higher. Most days that it snowed when the maximum temperature was below freezing only accumulated >1\" of snow whereas about freezing these two values were both >1\"."
      ]
    }
  ]
}